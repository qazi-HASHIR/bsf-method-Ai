{
  "nbformat": 4,
  "nbformat_minor": 0,
  "metadata": {
    "colab": {
      "provenance": []
    },
    "kernelspec": {
      "name": "python3",
      "display_name": "Python 3"
    },
    "language_info": {
      "name": "python"
    }
  },
  "cells": [
    {
      "cell_type": "code",
      "execution_count": 3,
      "metadata": {
        "colab": {
          "base_uri": "https://localhost:8080/"
        },
        "id": "pfdJ6vROMnp_",
        "outputId": "411618fb-3a04-4ef5-e3ea-d207982786ff"
      },
      "outputs": [
        {
          "output_type": "stream",
          "name": "stdout",
          "text": [
            "Shortest path from Islamabad to Karachi: ['Islamabad', 'Rawalpindi', 'Quetta', 'Karachi']\n"
          ]
        }
      ],
      "source": [
        "from collections import deque\n",
        "\n",
        "# Defining the graph as an adjacency list (dictionary)\n",
        "graph = {\n",
        "    'Islamabad': ['Rawalpindi', 'Lahore', 'Peshawar'],\n",
        "    'Rawalpindi': ['Islamabad', 'Peshawar', 'Quetta'],\n",
        "    'Peshawar': ['Islamabad', 'Rawalpindi', 'Quetta'],\n",
        "    'Lahore': ['Islamabad', 'Multan', 'Quetta'],\n",
        "    'Multan': ['Lahore', 'Karachi', 'Quetta'],\n",
        "    'Quetta': ['Rawalpindi', 'Peshawar', 'Multan', 'Karachi'],\n",
        "    'Karachi': ['Multan', 'Quetta']\n",
        "}\n",
        "\n",
        "\n",
        "def bfs_shortest_path(graph, start, goal):\n",
        "\n",
        "    queue = deque([[start]])\n",
        "\n",
        "    visited = set()\n",
        "\n",
        "    while queue:\n",
        "\n",
        "        path = queue.popleft()\n",
        "\n",
        "        city = path[-1]\n",
        "\n",
        "        # If we reach the goal, return the path\n",
        "        if city == goal:\n",
        "            return path\n",
        "\n",
        "\n",
        "            visited.add(city)\n",
        "\n",
        "\n",
        "            for neighbor in graph[city]:\n",
        "                new_path = list(path)\n",
        "                new_path.append(neighbor)\n",
        "                queue.append(new_path)\n",
        "\n",
        "    return None\n",
        "\n",
        "# Finding the shortest path from Islamabad to Karachi\n",
        "shortest_path = bfs_shortest_path(graph, 'Islamabad', 'Karachi')\n",
        "\n",
        "# Display the result\n",
        "print(\"Shortest path from Islamabad to Karachi:\", shortest_path)\n",
        "\n"
      ]
    }
  ]
}